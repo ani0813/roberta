{
 "cells": [
  {
   "cell_type": "code",
   "execution_count": 2,
   "id": "94dda89d",
   "metadata": {},
   "outputs": [],
   "source": [
    "from transformers import pipeline\n",
    "import pandas as pd"
   ]
  },
  {
   "cell_type": "code",
   "execution_count": 3,
   "id": "67df715e",
   "metadata": {},
   "outputs": [
    {
     "name": "stderr",
     "output_type": "stream",
     "text": [
      "All model checkpoint layers were used when initializing TFRobertaForSequenceClassification.\n",
      "\n",
      "All the layers of TFRobertaForSequenceClassification were initialized from the model checkpoint at arpanghoshal/EmoRoBERTa.\n",
      "If your task is similar to the task the model of the checkpoint was trained on, you can already use TFRobertaForSequenceClassification for predictions without further training.\n"
     ]
    }
   ],
   "source": [
    "emotion = pipeline('sentiment-analysis', model='arpanghoshal/EmoRoBERTa')"
   ]
  },
  {
   "cell_type": "code",
   "execution_count": 4,
   "id": "ec7b7d51",
   "metadata": {},
   "outputs": [
    {
     "name": "stdout",
     "output_type": "stream",
     "text": [
      "[{'label': 'remorse', 'score': 0.7496768832206726}]\n",
      "remorse\n"
     ]
    }
   ],
   "source": [
    "# Example \n",
    "emotion_labels = emotion(\"I'm sorry that the order got delayed\")\n",
    "print(emotion_labels)\n",
    "print(emotion_labels[0]['label'])"
   ]
  },
  {
   "cell_type": "code",
   "execution_count": 49,
   "id": "dba732c8",
   "metadata": {},
   "outputs": [],
   "source": [
    "# Helper Function\n",
    "def get_emotion_label(text):\n",
    "    print(text)\n",
    "    print(\"-----------------\")\n",
    "    print(emotion(text)[0]['label'])"
   ]
  },
  {
   "cell_type": "code",
   "execution_count": 50,
   "id": "21fc696a",
   "metadata": {},
   "outputs": [
    {
     "name": "stdout",
     "output_type": "stream",
     "text": [
      "I love me\n",
      "-----------------\n",
      "love\n"
     ]
    }
   ],
   "source": [
    "get_emotion_label(\"I love me\")"
   ]
  },
  {
   "cell_type": "code",
   "execution_count": 51,
   "id": "4649d9ae",
   "metadata": {},
   "outputs": [
    {
     "name": "stdout",
     "output_type": "stream",
     "text": [
      "hi all, please prepare the demo of your product (it could be either a design, or the product created with a website builder or the ready product with coding). You’ll need to demo your product upcoming Thursday (Dec the 8th).\n",
      "-----------------\n",
      "neutral\n"
     ]
    }
   ],
   "source": [
    "get_emotion_label(\"hi all, please prepare the demo of your product (it could be either a design, or the product created with a website builder or the ready product with coding). You’ll need to demo your product upcoming Thursday (Dec the 8th).\")"
   ]
  },
  {
   "cell_type": "code",
   "execution_count": 52,
   "id": "4ab78ad8",
   "metadata": {},
   "outputs": [
    {
     "name": "stdout",
     "output_type": "stream",
     "text": [
      "Each team will have 10 min to demo.You can choose who presents from each team.\n",
      "-----------------\n",
      "neutral\n"
     ]
    }
   ],
   "source": [
    "get_emotion_label(\"Each team will have 10 min to demo.You can choose who presents from each team.\")"
   ]
  },
  {
   "cell_type": "code",
   "execution_count": 53,
   "id": "8970f77a",
   "metadata": {},
   "outputs": [
    {
     "name": "stdout",
     "output_type": "stream",
     "text": [
      "In some cases you’ll be asked to provide access to your code so that we can check the quality of the work.\n",
      "-----------------\n",
      "neutral\n"
     ]
    }
   ],
   "source": [
    "get_emotion_label(\"In some cases you’ll be asked to provide access to your code so that we can check the quality of the work.\")"
   ]
  },
  {
   "cell_type": "code",
   "execution_count": 37,
   "id": "40e81a2a",
   "metadata": {},
   "outputs": [
    {
     "name": "stdout",
     "output_type": "stream",
     "text": [
      "The grade of the milestone 3 will be based on:the readiness to production of your productthe quality of the product (design, coding etc.)the presentation and communication skills of the presenterBy this we will finish the course so good luck\n",
      "------------------------\n",
      "optimism\n"
     ]
    }
   ],
   "source": [
    "get_emotion_label(\"The grade of the milestone 3 will be based on:the readiness to production of your productthe quality of the product (design, coding etc.)the presentation and communication skills of the presenterBy this we will finish the course so good luck\")"
   ]
  },
  {
   "cell_type": "code",
   "execution_count": 56,
   "id": "955c1618",
   "metadata": {},
   "outputs": [
    {
     "name": "stdout",
     "output_type": "stream",
     "text": [
      "And another good news, we’ve decided to cancel the grades for the first quiz you took as they were too low\n",
      "-----------------\n",
      "joy\n"
     ]
    }
   ],
   "source": [
    "get_emotion_label(\"And another good news, we’ve decided to cancel the grades for the first quiz you took as they were too low\")"
   ]
  },
  {
   "cell_type": "code",
   "execution_count": 58,
   "id": "7f45fe22",
   "metadata": {},
   "outputs": [
    {
     "name": "stdout",
     "output_type": "stream",
     "text": [
      "And another reminder: There are NO make up assignments in this course, so try not to miss any of them.\n",
      "-----------------\n",
      "realization\n"
     ]
    }
   ],
   "source": [
    "get_emotion_label(\"And another reminder: There are NO make up assignments in this course, so try not to miss any of them.\")"
   ]
  },
  {
   "cell_type": "code",
   "execution_count": 19,
   "id": "ba25017e",
   "metadata": {},
   "outputs": [],
   "source": [
    "emotion.save_pretrained(\"arpanghoshal/EmoRoBERTa\")"
   ]
  },
  {
   "cell_type": "code",
   "execution_count": null,
   "id": "976e7ffa",
   "metadata": {},
   "outputs": [],
   "source": [
    "print('Model saved')"
   ]
  }
 ],
 "metadata": {
  "kernelspec": {
   "display_name": "Python 3 (ipykernel)",
   "language": "python",
   "name": "python3"
  },
  "language_info": {
   "codemirror_mode": {
    "name": "ipython",
    "version": 3
   },
   "file_extension": ".py",
   "mimetype": "text/x-python",
   "name": "python",
   "nbconvert_exporter": "python",
   "pygments_lexer": "ipython3",
   "version": "3.8.8"
  }
 },
 "nbformat": 4,
 "nbformat_minor": 5
}
